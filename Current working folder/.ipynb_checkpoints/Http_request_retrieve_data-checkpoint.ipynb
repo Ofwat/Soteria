{
 "cells": [
  {
   "cell_type": "markdown",
   "id": "154bd63a-27be-4a52-811f-647876964a13",
   "metadata": {},
   "source": [
    "### This script sends an authenticated HTTP/GET request to a specified URL, retrieves XML data, processes it into a Pandas DataFrame, and then prints the DataFrame. "
   ]
  },
  {
   "cell_type": "markdown",
   "id": "f9cc7c88-0c36-4670-846e-9762ec165d0f",
   "metadata": {},
   "source": [
    "##### With 'Requests' we make direct requests to the API endpoints. This is a clean and efficient approach."
   ]
  },
  {
   "cell_type": "code",
   "execution_count": 16,
   "id": "2501243f-485c-427b-abb5-8c903dabb68a",
   "metadata": {
    "tags": []
   },
   "outputs": [],
   "source": [
    "import requests\n",
    "from requests_ntlm import HttpNtlmAuth\n",
    "import getpass\n",
    "import pandas as pd\n",
    "import numpy as np\n",
    "import urllib3"
   ]
  },
  {
   "cell_type": "code",
   "execution_count": 17,
   "id": "56ed7a98-f532-4114-b514-74dbcc449a95",
   "metadata": {
    "tags": []
   },
   "outputs": [],
   "source": [
    "# Suppress all warnings from urllib3\n",
    "urllib3.disable_warnings(urllib3.exceptions.InsecureRequestWarning)"
   ]
  },
  {
   "cell_type": "code",
   "execution_count": 18,
   "id": "72817832-1b59-45d1-b179-31fc3bbd4042",
   "metadata": {},
   "outputs": [],
   "source": [
    "def make_authenticated_request(base_url,report_id,username,password):\n",
    "    try:\n",
    "         # Construct the full URL with the dynamic report_id\n",
    "        url = f\"{base_url}{report_id}\"\n",
    "\n",
    "        # Create an instance of HttpNtlmAuth with username and password\n",
    "        auth = HttpNtlmAuth(username, password)\n",
    "\n",
    "        # Make an HTTP GET request with SSL verification disabled, NTLM authentication, and a timeout of 20 seconds\n",
    "        response = requests.get(url, verify=False, auth=auth, timeout=30)\n",
    "\n",
    "        # Check if the request was successful (status code 200)\n",
    "        if response.status_code == 200:\n",
    "            xml_data = response.text\n",
    "            df = pd.read_xml(xml_data)\n",
    "            #print(df)\n",
    "            df.to_excel(r\"C:\\Users\\Maria.diapouli\\OneDrive - OFWAT\\Python\\validation_tool\\Model Firing Order\\report_data.xlsx\", sheet_name=\"F_Outputs\", index=False)\n",
    "        elif response.status_code == 409:\n",
    "            # The specific message is in the response; prompt user for company ID\n",
    "            company_id = input(\"This report has no company, please enter a company ID: \")\n",
    "            # You can use the company_id in further processing or make another request with the company_id\n",
    "            print(f\"Company ID entered: {company_id}\")\n",
    "        else:\n",
    "            print(f\"Failed to retrieve data. Status code: {response.status_code}\")\n",
    "            print(\"Response content:\")\n",
    "            print(response.text)\n",
    "\n",
    "    except requests.exceptions.RequestException as e:\n",
    "        print(f\"An error occurred: {e}\")"
   ]
  },
  {
   "cell_type": "code",
   "execution_count": 21,
   "id": "be015d3e-d995-478d-b980-e5afb55a7abd",
   "metadata": {
    "tags": []
   },
   "outputs": [
    {
     "name": "stdin",
     "output_type": "stream",
     "text": [
      "Enter the report ID:  22231\n",
      "Enter your email address:  maria.diapouli@ofwat.gov.uk\n",
      "Enter your password:  ········\n"
     ]
    },
    {
     "name": "stdout",
     "output_type": "stream",
     "text": [
      "CPU times: total: 188 ms\n",
      "Wall time: 11.8 s\n"
     ]
    }
   ],
   "source": [
    "%%time \n",
    "base_url = \"https://fountain01/Fountain/rest-services/report/flattable/\"\n",
    "#Prompt the user to enter their email address and password\n",
    "report_id = input(\"Enter the report ID: \")\n",
    "username = input(\"Enter your email address: \")\n",
    "password = getpass.getpass(\"Enter your password: \")\n",
    "make_authenticated_request(base_url,report_id,username,password)"
   ]
  },
  {
   "cell_type": "code",
   "execution_count": null,
   "id": "859c3173-6bc4-4876-8ae7-d38ef967532e",
   "metadata": {},
   "outputs": [],
   "source": []
  }
 ],
 "metadata": {
  "kernelspec": {
   "display_name": "Python 3 (ipykernel)",
   "language": "python",
   "name": "python3"
  },
  "language_info": {
   "codemirror_mode": {
    "name": "ipython",
    "version": 3
   },
   "file_extension": ".py",
   "mimetype": "text/x-python",
   "name": "python",
   "nbconvert_exporter": "python",
   "pygments_lexer": "ipython3",
   "version": "3.9.13"
  }
 },
 "nbformat": 4,
 "nbformat_minor": 5
}
